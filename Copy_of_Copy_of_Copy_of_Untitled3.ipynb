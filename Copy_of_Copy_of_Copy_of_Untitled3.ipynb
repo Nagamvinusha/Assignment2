{
  "nbformat": 4,
  "nbformat_minor": 0,
  "metadata": {
    "colab": {
      "name": "Copy of Copy of Copy of Untitled3.ipynb",
      "provenance": [],
      "authorship_tag": "ABX9TyMlANvHVzIv5JhakilMDYMW",
      "include_colab_link": true
    },
    "kernelspec": {
      "name": "python3",
      "display_name": "Python 3"
    }
  },
  "cells": [
    {
      "cell_type": "markdown",
      "metadata": {
        "id": "view-in-github",
        "colab_type": "text"
      },
      "source": [
        "<a href=\"https://colab.research.google.com/github/Nagamvinusha/Assignment2/blob/master/Copy_of_Copy_of_Copy_of_Untitled3.ipynb\" target=\"_parent\"><img src=\"https://colab.research.google.com/assets/colab-badge.svg\" alt=\"Open In Colab\"/></a>"
      ]
    },
    {
      "cell_type": "markdown",
      "metadata": {
        "id": "SfXzKWmPuqDU",
        "colab_type": "text"
      },
      "source": [
        "ASSIGNMENT 2:"
      ]
    },
    {
      "cell_type": "code",
      "metadata": {
        "id": "q-JzLrYjqonB",
        "colab_type": "code",
        "colab": {
          "base_uri": "https://localhost:8080/",
          "height": 50
        },
        "outputId": "ecd325ce-8f51-449a-b741-d565673f6d20"
      },
      "source": [
        "#1:\n",
        "year = int(input(\"Enter the year\"))\n",
        "if year % 12 == 0 :\n",
        "  print(\"monkey\")\n",
        "elif year % 12 == 1 :\n",
        "  print(\"rooster\")\n",
        "elif year % 12 == 2 :\n",
        "  print(\"dog\")\n",
        "elif year % 12 == 3 :\n",
        "  print(\"pig\")\n",
        "elif year % 12 == 4 :\n",
        "  print(\"rat\")\n",
        "elif year % 12 == 5 :\n",
        "  print(\"ox\")\n",
        "elif year % 12 == 6 :\n",
        "  print(\"tiger\")\n",
        "elif year % 12 == 7 :\n",
        "  print(\"rabbit\")\n",
        "elif year % 12 == 8 :\n",
        "  print(\"dragon\")\n",
        "elif year % 12 == 9 :\n",
        "  print(\"snake\")\n",
        "elif year % 12 == 10 :\n",
        "  print(\"horse\")\n",
        "else :\n",
        "  print(\"sheep\")"
      ],
      "execution_count": null,
      "outputs": [
        {
          "output_type": "stream",
          "text": [
            "Enter the year2000\n",
            "dragon\n"
          ],
          "name": "stdout"
        }
      ]
    },
    {
      "cell_type": "code",
      "metadata": {
        "id": "0QKu4t4S270T",
        "colab_type": "code",
        "colab": {
          "base_uri": "https://localhost:8080/",
          "height": 70
        },
        "outputId": "1b456a42-89f2-48c2-fae6-22c9e0106923"
      },
      "source": [
        "#2:\n",
        "dist=int(input('Distance to be travelled: '))\n",
        "kg=int(input('Weight of the goods: '))\n",
        "if dist>=500:\n",
        "    if kg>=100:\n",
        "        amount=5*dist\n",
        "        print('Amount to be charged: ',amount,'/-')\n",
        "    elif 10<=kg<100:\n",
        "        amount=6*dist\n",
        "        print('Amount to be charged: ',amount,'/-')\n",
        "    else:\n",
        "        amount=7*dist\n",
        "        print('Amount to be charged: ',amount,'/-')\n",
        "else:\n",
        "    if kg>=100:\n",
        "        amount=8*dist\n",
        "        print('Amount to be charged: ',amount,'/-')\n",
        "    else:\n",
        "        amount=5*dist\n",
        "        print('Amount to be charged: ',amount,'/-')"
      ],
      "execution_count": null,
      "outputs": [
        {
          "output_type": "stream",
          "text": [
            "Distance to be travelled: 520\n",
            "Weight of the goods: 50\n",
            "Amount to be charged:  3120 /-\n"
          ],
          "name": "stdout"
        }
      ]
    },
    {
      "cell_type": "code",
      "metadata": {
        "id": "kCa29YDK-A4G",
        "colab_type": "code",
        "colab": {
          "base_uri": "https://localhost:8080/",
          "height": 70
        },
        "outputId": "71763bff-820e-403d-c9eb-b3c6991a36f5"
      },
      "source": [
        "#3\n",
        "seat=input(\"Type of seat: \")\n",
        "pay=input(\"Select cash or card: \")\n",
        "if seat==\"stalls\" :\n",
        "    amount=625\n",
        "elif seat==\"circle\" :\n",
        "    amount=750\n",
        "elif seat==\"upper class\" :\n",
        "    amount=850\n",
        "elif  seat ==\"Box\" :\n",
        "      amount=1000\n",
        "else :\n",
        "    print(\"Invalid\")\n",
        "if pay==\"cash\" :\n",
        "    t=amount-(amount*10//100)\n",
        "else:\n",
        "    t=amount-(amount*5//100)\n",
        "print(\"cost of ticket is: \",t)"
      ],
      "execution_count": null,
      "outputs": [
        {
          "output_type": "stream",
          "text": [
            "Type of seat: circle\n",
            "Select cash or card: cash\n",
            "cost of ticket is:  675\n"
          ],
          "name": "stdout"
        }
      ]
    },
    {
      "cell_type": "code",
      "metadata": {
        "id": "ROaqMd6QGOCh",
        "colab_type": "code",
        "colab": {
          "base_uri": "https://localhost:8080/",
          "height": 88
        },
        "outputId": "dcbbf3fd-fc40-4116-b8c7-2c6673a38ab1"
      },
      "source": [
        "#4:\n",
        "M=int(input(\"Enter the amount of water in kgs\"))\n",
        "initialTemperature=int(input(\"Enter the initial temperature :\"))\n",
        "finalTemperature=int(input(\"Enter the final temperature :\"))\n",
        "Q=(M)*(finalTemperature-initialTemperature)*4184\n",
        "print(Q)"
      ],
      "execution_count": null,
      "outputs": [
        {
          "output_type": "stream",
          "text": [
            "Enter the amount of water in kgs260\n",
            "Enter the initial temperature :50\n",
            "Enter the final temperature :65\n",
            "16317600\n"
          ],
          "name": "stdout"
        }
      ]
    },
    {
      "cell_type": "code",
      "metadata": {
        "id": "Zvsro6tuKKJZ",
        "colab_type": "code",
        "colab": {
          "base_uri": "https://localhost:8080/",
          "height": 52
        },
        "outputId": "50ed16ed-44c8-4c08-a26f-b1df15044909"
      },
      "source": [
        "#5:\n",
        "M=input(\"Enter month: \")\n",
        "if (M==\"December\" or M==\"January\" or M==\"February\"):\n",
        "    print(\"Winter\")\n",
        "elif (M==\"March\" or M==\"April\" or M==\"May\"):\n",
        "    print(\"Spring\")\n",
        "elif (M==\"June\" or M==\"July\" or M==\"August\"):\n",
        "    print(\"Summer\")\n",
        "else:\n",
        "    print(\"Autumn\")"
      ],
      "execution_count": null,
      "outputs": [
        {
          "output_type": "stream",
          "text": [
            "Enter month: October\n",
            "Autumn\n"
          ],
          "name": "stdout"
        }
      ]
    },
    {
      "cell_type": "code",
      "metadata": {
        "id": "srHJrnmxL_um",
        "colab_type": "code",
        "colab": {
          "base_uri": "https://localhost:8080/",
          "height": 88
        },
        "outputId": "e3507940-9f79-4e10-8d1e-4f7e4b86f353"
      },
      "source": [
        "#6:\n",
        "weight=float(input(\"Enter the Weight in pounds\"))\n",
        "height=float(input(\"Enter the Height in inches\"))\n",
        "m=0.45359237*weight\n",
        "i=0.0254*height\n",
        "B=(m/(i**2))\n",
        "print(B)\n",
        "if(B<18.5):\n",
        "  print(\"Underweight\")\n",
        "elif(B>=18.5 and B<25.0):\n",
        "  print(\"Normal\")\n",
        "elif(B>=25.0 and B<30.0):\n",
        "  print(\"Over Weight\")\n",
        "elif(B>=30.0):\n",
        "  print(\"Obese\")\n",
        "else:\n",
        "  print(\"******\")"
      ],
      "execution_count": null,
      "outputs": [
        {
          "output_type": "stream",
          "text": [
            "Enter the Weight in pounds55\n",
            "Enter the Height in inches6\n",
            "1074.1340800042715\n",
            "Obese\n"
          ],
          "name": "stdout"
        }
      ]
    },
    {
      "cell_type": "code",
      "metadata": {
        "id": "1RJwLK8aO0KC",
        "colab_type": "code",
        "colab": {
          "base_uri": "https://localhost:8080/",
          "height": 52
        },
        "outputId": "520ed168-b252-4b1b-91ee-f42350fbd57b"
      },
      "source": [
        "#7:\n",
        "i=int(input(\"Enter an integer from 100 to 1000\"))\n",
        "sum=0\n",
        "while(i>0):\n",
        "    n=i%10\n",
        "    i=i//10\n",
        "    sum=sum+n\n",
        "print(\"Sum=\",sum)"
      ],
      "execution_count": null,
      "outputs": [
        {
          "output_type": "stream",
          "text": [
            "Enter an integer from 100 to 1000745\n",
            "Sum= 16\n"
          ],
          "name": "stdout"
        }
      ]
    },
    {
      "cell_type": "code",
      "metadata": {
        "id": "omYS4B4sQvUc",
        "colab_type": "code",
        "colab": {
          "base_uri": "https://localhost:8080/",
          "height": 55
        },
        "outputId": "98b4e73a-309c-48b9-9bf0-d7b481d17085"
      },
      "source": [
        "#8:\n",
        "for n in range(1,1001):\n",
        "  sum=0\n",
        "  temp=n\n",
        "  while n>0:\n",
        "       rev=n%10\n",
        "       sum=sum*10+rev\n",
        "       n=n//10\n",
        "  if temp==sum:\n",
        "       print(temp,end=\" \")"
      ],
      "execution_count": null,
      "outputs": [
        {
          "output_type": "stream",
          "text": [
            "1 2 3 4 5 6 7 8 9 11 22 33 44 55 66 77 88 99 101 111 121 131 141 151 161 171 181 191 202 212 222 232 242 252 262 272 282 292 303 313 323 333 343 353 363 373 383 393 404 414 424 434 444 454 464 474 484 494 505 515 525 535 545 555 565 575 585 595 606 616 626 636 646 656 666 676 686 696 707 717 727 737 747 757 767 777 787 797 808 818 828 838 848 858 868 878 888 898 909 919 929 939 949 959 969 979 989 999 "
          ],
          "name": "stdout"
        }
      ]
    },
    {
      "cell_type": "code",
      "metadata": {
        "id": "c18eCYllQoSN",
        "colab_type": "code",
        "colab": {
          "base_uri": "https://localhost:8080/",
          "height": 35
        },
        "outputId": "67c221d0-e547-4d73-b141-dd7e9d65cf4f"
      },
      "source": [
        "#9:\n",
        "for n in range(1,1001):\n",
        "    sum=0\n",
        "    temp=n\n",
        "    while n>0:\n",
        "      rev=n%10\n",
        "      sum+=rev*rev*rev\n",
        "      n=n//10\n",
        "    if sum==temp:\n",
        "      print(temp,end=\" \")"
      ],
      "execution_count": null,
      "outputs": [
        {
          "output_type": "stream",
          "text": [
            "1 153 370 371 407 "
          ],
          "name": "stdout"
        }
      ]
    },
    {
      "cell_type": "code",
      "metadata": {
        "id": "dRAPFdYLTGiM",
        "colab_type": "code",
        "colab": {
          "base_uri": "https://localhost:8080/",
          "height": 1000
        },
        "outputId": "a26081e9-c952-41be-bc4c-53f1fc5870dc"
      },
      "source": [
        "#10:\n",
        "for i in range(1,101):\n",
        "    if i%3==0 and i%5==0:\n",
        "       print(\"fizz buzz\")\n",
        "    elif i%3==0:\n",
        "       print(\"Fizz\") \n",
        "    elif i%5==0:\n",
        "       print(\"Buzz\")\n",
        "    else:\n",
        "       print(i)"
      ],
      "execution_count": null,
      "outputs": [
        {
          "output_type": "stream",
          "text": [
            "1\n",
            "2\n",
            "Fizz\n",
            "4\n",
            "Buzz\n",
            "Fizz\n",
            "7\n",
            "8\n",
            "Fizz\n",
            "Buzz\n",
            "11\n",
            "Fizz\n",
            "13\n",
            "14\n",
            "fizz buzz\n",
            "16\n",
            "17\n",
            "Fizz\n",
            "19\n",
            "Buzz\n",
            "Fizz\n",
            "22\n",
            "23\n",
            "Fizz\n",
            "Buzz\n",
            "26\n",
            "Fizz\n",
            "28\n",
            "29\n",
            "fizz buzz\n",
            "31\n",
            "32\n",
            "Fizz\n",
            "34\n",
            "Buzz\n",
            "Fizz\n",
            "37\n",
            "38\n",
            "Fizz\n",
            "Buzz\n",
            "41\n",
            "Fizz\n",
            "43\n",
            "44\n",
            "fizz buzz\n",
            "46\n",
            "47\n",
            "Fizz\n",
            "49\n",
            "Buzz\n",
            "Fizz\n",
            "52\n",
            "53\n",
            "Fizz\n",
            "Buzz\n",
            "56\n",
            "Fizz\n",
            "58\n",
            "59\n",
            "fizz buzz\n",
            "61\n",
            "62\n",
            "Fizz\n",
            "64\n",
            "Buzz\n",
            "Fizz\n",
            "67\n",
            "68\n",
            "Fizz\n",
            "Buzz\n",
            "71\n",
            "Fizz\n",
            "73\n",
            "74\n",
            "fizz buzz\n",
            "76\n",
            "77\n",
            "Fizz\n",
            "79\n",
            "Buzz\n",
            "Fizz\n",
            "82\n",
            "83\n",
            "Fizz\n",
            "Buzz\n",
            "86\n",
            "Fizz\n",
            "88\n",
            "89\n",
            "fizz buzz\n",
            "91\n",
            "92\n",
            "Fizz\n",
            "94\n",
            "Buzz\n",
            "Fizz\n",
            "97\n",
            "98\n",
            "Fizz\n",
            "Buzz\n"
          ],
          "name": "stdout"
        }
      ]
    },
    {
      "cell_type": "code",
      "metadata": {
        "id": "QhyeCJClUiqA",
        "colab_type": "code",
        "colab": {
          "base_uri": "https://localhost:8080/",
          "height": 88
        },
        "outputId": "3770d29e-6086-4d79-b000-ac465dde3950"
      },
      "source": [
        "#11:\n",
        "H=int(input(\"Enter height of the well \"))\n",
        "U=int(input(\"Enter the meters which is climbed \"))\n",
        "D=int(input(\"Slips down\"))\n",
        "step=((H-U)+(U-D))//(U-D)\n",
        "print(step+1)"
      ],
      "execution_count": null,
      "outputs": [
        {
          "output_type": "stream",
          "text": [
            "Enter height of the well 200\n",
            "Enter the meters which is climbed 50\n",
            "Slips down1\n",
            "5\n"
          ],
          "name": "stdout"
        }
      ]
    },
    {
      "cell_type": "code",
      "metadata": {
        "id": "WwOFt07ceIV-",
        "colab_type": "code",
        "colab": {}
      },
      "source": [
        ""
      ],
      "execution_count": null,
      "outputs": []
    }
  ]
}